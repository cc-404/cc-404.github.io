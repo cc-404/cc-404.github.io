{
 "cells": [
  {
   "cell_type": "code",
   "execution_count": 1,
   "id": "bca8d232",
   "metadata": {},
   "outputs": [],
   "source": [
    "sbox = [\n",
    "  0x63, 0x7c, 0x77, 0x7b, 0xf2, 0x6b, 0x6f, 0xc5, 0x30, 0x01, 0x67, 0x2b, 0xfe, 0xd7, 0xab, 0x76,\n",
    "  0xca, 0x82, 0xc9, 0x7d, 0xfa, 0x59, 0x47, 0xf0, 0xad, 0xd4, 0xa2, 0xaf, 0x9c, 0xa4, 0x72, 0xc0,\n",
    "  0xb7, 0xfd, 0x93, 0x26, 0x36, 0x3f, 0xf7, 0xcc, 0x34, 0xa5, 0xe5, 0xf1, 0x71, 0xd8, 0x31, 0x15,\n",
    "  0x04, 0xc7, 0x23, 0xc3, 0x18, 0x96, 0x05, 0x9a, 0x07, 0x12, 0x80, 0xe2, 0xeb, 0x27, 0xb2, 0x75,\n",
    "  0x09, 0x83, 0x2c, 0x1a, 0x1b, 0x6e, 0x5a, 0xa0, 0x52, 0x3b, 0xd6, 0xb3, 0x29, 0xe3, 0x2f, 0x84,\n",
    "  0x53, 0xd1, 0x00, 0xed, 0x20, 0xfc, 0xb1, 0x5b, 0x6a, 0xcb, 0xbe, 0x39, 0x4a, 0x4c, 0x58, 0xcf,\n",
    "  0xd0, 0xef, 0xaa, 0xfb, 0x43, 0x4d, 0x33, 0x85, 0x45, 0xf9, 0x02, 0x7f, 0x50, 0x3c, 0x9f, 0xa8,\n",
    "  0x51, 0xa3, 0x40, 0x8f, 0x92, 0x9d, 0x38, 0xf5, 0xbc, 0xb6, 0xda, 0x21, 0x10, 0xff, 0xf3, 0xd2,\n",
    "  0xcd, 0x0c, 0x13, 0xec, 0x5f, 0x97, 0x44, 0x17, 0xc4, 0xa7, 0x7e, 0x3d, 0x64, 0x5d, 0x19, 0x73,\n",
    "  0x60, 0x81, 0x4f, 0xdc, 0x22, 0x2a, 0x90, 0x88, 0x46, 0xee, 0xb8, 0x14, 0xde, 0x5e, 0x0b, 0xdb,\n",
    "  0xe0, 0x32, 0x3a, 0x0a, 0x49, 0x06, 0x24, 0x5c, 0xc2, 0xd3, 0xac, 0x62, 0x91, 0x95, 0xe4, 0x79,\n",
    "  0xe7, 0xc8, 0x37, 0x6d, 0x8d, 0xd5, 0x4e, 0xa9, 0x6c, 0x56, 0xf4, 0xea, 0x65, 0x7a, 0xae, 0x08,\n",
    "  0xba, 0x78, 0x25, 0x2e, 0x1c, 0xa6, 0xb4, 0xc6, 0xe8, 0xdd, 0x74, 0x1f, 0x4b, 0xbd, 0x8b, 0x8a,\n",
    "  0x70, 0x3e, 0xb5, 0x66, 0x48, 0x03, 0xf6, 0x0e, 0x61, 0x35, 0x57, 0xb9, 0x86, 0xc1, 0x1d, 0x9e,\n",
    "  0xe1, 0xf8, 0x98, 0x11, 0x69, 0xd9, 0x8e, 0x94, 0x9b, 0x1e, 0x87, 0xe9, 0xce, 0x55, 0x28, 0xdf,\n",
    "  0x8c, 0xa1, 0x89, 0x0d, 0xbf, 0xe6, 0x42, 0x68, 0x41, 0x99, 0x2d, 0x0f, 0xb0, 0x54, 0xbb, 0x16 ]\n"
   ]
  },
  {
   "cell_type": "code",
   "execution_count": 2,
   "id": "e829714d",
   "metadata": {},
   "outputs": [],
   "source": [
    "i_sbox = [\n",
    "  0x52, 0x09, 0x6a, 0xd5, 0x30, 0x36, 0xa5, 0x38, 0xbf, 0x40, 0xa3, 0x9e, 0x81, 0xf3, 0xd7, 0xfb,\n",
    "  0x7c, 0xe3, 0x39, 0x82, 0x9b, 0x2f, 0xff, 0x87, 0x34, 0x8e, 0x43, 0x44, 0xc4, 0xde, 0xe9, 0xcb,\n",
    "  0x54, 0x7b, 0x94, 0x32, 0xa6, 0xc2, 0x23, 0x3d, 0xee, 0x4c, 0x95, 0x0b, 0x42, 0xfa, 0xc3, 0x4e,\n",
    "  0x08, 0x2e, 0xa1, 0x66, 0x28, 0xd9, 0x24, 0xb2, 0x76, 0x5b, 0xa2, 0x49, 0x6d, 0x8b, 0xd1, 0x25,\n",
    "  0x72, 0xf8, 0xf6, 0x64, 0x86, 0x68, 0x98, 0x16, 0xd4, 0xa4, 0x5c, 0xcc, 0x5d, 0x65, 0xb6, 0x92,\n",
    "  0x6c, 0x70, 0x48, 0x50, 0xfd, 0xed, 0xb9, 0xda, 0x5e, 0x15, 0x46, 0x57, 0xa7, 0x8d, 0x9d, 0x84,\n",
    "  0x90, 0xd8, 0xab, 0x00, 0x8c, 0xbc, 0xd3, 0x0a, 0xf7, 0xe4, 0x58, 0x05, 0xb8, 0xb3, 0x45, 0x06,\n",
    "  0xd0, 0x2c, 0x1e, 0x8f, 0xca, 0x3f, 0x0f, 0x02, 0xc1, 0xaf, 0xbd, 0x03, 0x01, 0x13, 0x8a, 0x6b,\n",
    "  0x3a, 0x91, 0x11, 0x41, 0x4f, 0x67, 0xdc, 0xea, 0x97, 0xf2, 0xcf, 0xce, 0xf0, 0xb4, 0xe6, 0x73,\n",
    "  0x96, 0xac, 0x74, 0x22, 0xe7, 0xad, 0x35, 0x85, 0xe2, 0xf9, 0x37, 0xe8, 0x1c, 0x75, 0xdf, 0x6e,\n",
    "  0x47, 0xf1, 0x1a, 0x71, 0x1d, 0x29, 0xc5, 0x89, 0x6f, 0xb7, 0x62, 0x0e, 0xaa, 0x18, 0xbe, 0x1b,\n",
    "  0xfc, 0x56, 0x3e, 0x4b, 0xc6, 0xd2, 0x79, 0x20, 0x9a, 0xdb, 0xc0, 0xfe, 0x78, 0xcd, 0x5a, 0xf4,\n",
    "  0x1f, 0xdd, 0xa8, 0x33, 0x88, 0x07, 0xc7, 0x31, 0xb1, 0x12, 0x10, 0x59, 0x27, 0x80, 0xec, 0x5f,\n",
    "  0x60, 0x51, 0x7f, 0xa9, 0x19, 0xb5, 0x4a, 0x0d, 0x2d, 0xe5, 0x7a, 0x9f, 0x93, 0xc9, 0x9c, 0xef,\n",
    "  0xa0, 0xe0, 0x3b, 0x4d, 0xae, 0x2a, 0xf5, 0xb0, 0xc8, 0xeb, 0xbb, 0x3c, 0x83, 0x53, 0x99, 0x61,\n",
    "  0x17, 0x2b, 0x04, 0x7e, 0xba, 0x77, 0xd6, 0x26, 0xe1, 0x69, 0x14, 0x63, 0x55, 0x21, 0x0c, 0x7d]"
   ]
  },
  {
   "cell_type": "code",
   "execution_count": 3,
   "id": "5d7ac043",
   "metadata": {},
   "outputs": [],
   "source": [
    "rcon = [\n",
    "  0x8d, 0x01, 0x02, 0x04, 0x08, 0x10, 0x20, 0x40, 0x80, 0x1b, 0x36 ]"
   ]
  },
  {
   "cell_type": "code",
   "execution_count": 4,
   "id": "cc263a42",
   "metadata": {},
   "outputs": [],
   "source": [
    "def sub_word(word):\n",
    "    wlen=len(word)\n",
    "    assert wlen == 4\n",
    "    out=bytearray(wlen)\n",
    "    for i in range(wlen):\n",
    "        out[i]=sbox[word[i]]\n",
    "    return out"
   ]
  },
  {
   "cell_type": "code",
   "execution_count": 5,
   "id": "f6047583",
   "metadata": {},
   "outputs": [],
   "source": [
    "def rot_word(word):\n",
    "    wlen=len(word)\n",
    "    assert wlen == 4\n",
    "    out=bytearray(wlen)\n",
    "    for i in range(4):\n",
    "        out[i]=word[(i+1)%4]\n",
    "    return out"
   ]
  },
  {
   "cell_type": "code",
   "execution_count": 6,
   "id": "aa3df86d",
   "metadata": {},
   "outputs": [],
   "source": [
    "def xor(a,b):\n",
    "    alen=len(a)\n",
    "    assert alen==len(b)\n",
    "    out =bytearray(alen)\n",
    "    for i in range(alen):\n",
    "        out[i]=a[i]^b[i]\n",
    "    \n",
    "    return out"
   ]
  },
  {
   "cell_type": "code",
   "execution_count": 7,
   "id": "6b596acb",
   "metadata": {},
   "outputs": [],
   "source": [
    "def key_expansion(key, bits=128):\n",
    "    rcon_t=bytearray(4)\n",
    "    \n",
    "    if bits == 128:\n",
    "        klen=16\n",
    "        nk=4\n",
    "        rnd_len=176\n",
    "    elif bits == 192:\n",
    "        klen=24\n",
    "        nk=6\n",
    "        rnd_len=208\n",
    "    elif bits == 256:\n",
    "        klen=32\n",
    "        nk=8\n",
    "        rnd_len=240\n",
    "    \n",
    "    round_key=bytearray(rnd_len)\n",
    "    for i in range(klen):\n",
    "        round_key[i]=key[i]\n",
    "    for i in range(nk, 4*(rnd_len//16)):\n",
    "        k=(i-1)*4\n",
    "        temp=round_key[k:k+4]\n",
    "        if i%nk == 0:\n",
    "            rcon_t[0]=rcon[i//nk]\n",
    "            temp=xor(sub_word(rot_word(temp)), rcon_t)\n",
    "        if bits == 256 and i%nk==4:\n",
    "            temp=sub_word(temp)\n",
    "        j = i*4\n",
    "        k=(i - nk)*4\n",
    "        round_key[j:j+4] = xor(round_key[k:k+4], temp)\n",
    "    return round_key"
   ]
  },
  {
   "cell_type": "code",
   "execution_count": 8,
   "id": "5ea7b3be",
   "metadata": {},
   "outputs": [
    {
     "data": {
      "text/plain": [
       "'b4ef5bcb3e92e21123e951cf6f8f188e'"
      ]
     },
     "execution_count": 8,
     "metadata": {},
     "output_type": "execute_result"
    }
   ],
   "source": [
    "key_expansion(bytes.fromhex('00'*16))[-16:].hex()"
   ]
  },
  {
   "cell_type": "code",
   "execution_count": null,
   "id": "f42622a8",
   "metadata": {},
   "outputs": [],
   "source": []
  },
  {
   "cell_type": "code",
   "execution_count": 9,
   "id": "f3b5719f",
   "metadata": {},
   "outputs": [],
   "source": [
    "def sub_bytes(state):\n",
    "    return bytearray([sbox[each] for each in state])"
   ]
  },
  {
   "cell_type": "code",
   "execution_count": 10,
   "id": "bc7efeb0",
   "metadata": {},
   "outputs": [],
   "source": [
    "def i_sub_bytes(state):\n",
    "    return bytearray([i_sbox[each] for each in state])"
   ]
  },
  {
   "cell_type": "code",
   "execution_count": 11,
   "id": "e067b650",
   "metadata": {},
   "outputs": [],
   "source": [
    "def transpose(data):\n",
    "    temp=bytearray(16)\n",
    "    temp[0]=data[0]\n",
    "    temp[4]=data[1]\n",
    "    temp[8]=data[2]\n",
    "    temp[12]=data[3]\n",
    "    temp[1]=data[4]\n",
    "    temp[5]=data[5]\n",
    "    temp[9]=data[6]\n",
    "    temp[13]=data[7]\n",
    "    temp[2]=data[8]\n",
    "    temp[6]=data[9]\n",
    "    temp[10]=data[10]\n",
    "    temp[14]=data[11]\n",
    "    temp[3]=data[12]\n",
    "    temp[7]=data[13]\n",
    "    temp[11]=data[14]\n",
    "    temp[15]=data[15]\n",
    "    return temp"
   ]
  },
  {
   "cell_type": "code",
   "execution_count": 12,
   "id": "2f569538",
   "metadata": {},
   "outputs": [],
   "source": [
    "def add_round_key(cur_round, state, round_key):\n",
    "    state=bytearray(state)\n",
    "    temp=transpose(round_key[16*cur_round:16*cur_round+16])\n",
    "    for i in range(16):\n",
    "        state[i] ^= temp[i]\n",
    "    return state"
   ]
  },
  {
   "cell_type": "code",
   "execution_count": 13,
   "id": "fe76379d",
   "metadata": {},
   "outputs": [],
   "source": [
    "def shift_rows(state):\n",
    "    out=bytearray(len(state))\n",
    "    out[0]=state[0]\n",
    "    out[1]=state[1]\n",
    "    out[2]=state[2]\n",
    "    out[3]=state[3]\n",
    "    out[7]=state[4]\n",
    "    out[4]=state[5]\n",
    "    out[5]=state[6]\n",
    "    out[6]=state[7]\n",
    "    out[10]=state[8]\n",
    "    out[11]=state[9]\n",
    "    out[8]=state[10]\n",
    "    out[9]=state[11]\n",
    "    out[13]=state[12]\n",
    "    out[14]=state[13]\n",
    "    out[15]=state[14]\n",
    "    out[12]=state[15]\n",
    "    return out"
   ]
  },
  {
   "cell_type": "code",
   "execution_count": 14,
   "id": "e2e46c6f",
   "metadata": {},
   "outputs": [],
   "source": [
    "def i_shift_rows(state):\n",
    "    out=bytearray(len(state))\n",
    "    out[0]=state[0]\n",
    "    out[1]=state[1]\n",
    "    out[2]=state[2]\n",
    "    out[3]=state[3]\n",
    "    out[5]=state[4]\n",
    "    out[6]=state[5]\n",
    "    out[7]=state[6]\n",
    "    out[4]=state[7]\n",
    "    out[10]=state[8]\n",
    "    out[11]=state[9]\n",
    "    out[8]=state[10]\n",
    "    out[9]=state[11]\n",
    "    out[15]=state[12]\n",
    "    out[12]=state[13]\n",
    "    out[13]=state[14]\n",
    "    out[14]=state[15]\n",
    "    return out"
   ]
  },
  {
   "cell_type": "code",
   "execution_count": 15,
   "id": "ca04d4a6",
   "metadata": {},
   "outputs": [],
   "source": [
    "def gmul(a, b):\n",
    "    p = 0\n",
    "    hiBitSet = 0\n",
    "    for i in range(8):\n",
    "        if b & 1 == 1:\n",
    "            p ^= a\n",
    "        hiBitSet = a & 0x80\n",
    "        a <<= 1\n",
    "        if hiBitSet == 0x80:\n",
    "            a ^= 0x1b\n",
    "        b >>= 1\n",
    "    return p % 256"
   ]
  },
  {
   "cell_type": "code",
   "execution_count": 16,
   "id": "92c94402",
   "metadata": {},
   "outputs": [],
   "source": [
    "def mix_column(a,b,c,d):\n",
    "    out=bytearray(4)\n",
    "    out[0] = gmul(a, 2) ^ gmul(b, 3) ^ gmul(c, 1) ^ gmul(d, 1)\n",
    "    out[1] = gmul(a, 1) ^ gmul(b, 2) ^ gmul(c, 3) ^ gmul(d, 1)\n",
    "    out[2] = gmul(a, 1) ^ gmul(b, 1) ^ gmul(c, 2) ^ gmul(d, 3)\n",
    "    out[3] = gmul(a, 3) ^ gmul(b, 1) ^ gmul(c, 1) ^ gmul(d, 2)\n",
    "    return out[0],out[1],out[2],out[3]"
   ]
  },
  {
   "cell_type": "code",
   "execution_count": 17,
   "id": "31fce27a",
   "metadata": {},
   "outputs": [],
   "source": [
    "def mix_columns(state):\n",
    "    out=bytearray(len(state))\n",
    "    for i in range(4):\n",
    "        out[i], out[i+4], out[i+8], out[i+12]=mix_column(state[i], state[i+4], state[i+8], state[i+12])\n",
    "    return out"
   ]
  },
  {
   "cell_type": "code",
   "execution_count": 18,
   "id": "68dc02ef",
   "metadata": {},
   "outputs": [],
   "source": [
    "def i_mix_column(a,b,c,d):\n",
    "    out=bytearray(4)\n",
    "    out[0] = gmul(a, 0x0e) ^ gmul(b, 0x0b) ^ gmul(c, 0x0d) ^ gmul(d, 0x09)\n",
    "    out[1] = gmul(a, 0x09) ^ gmul(b, 0x0e) ^ gmul(c, 0x0b) ^ gmul(d, 0x0d)\n",
    "    out[2] = gmul(a, 0x0d) ^ gmul(b, 0x09) ^ gmul(c, 0x0e) ^ gmul(d, 0x0b)\n",
    "    out[3] = gmul(a, 0x0b) ^ gmul(b, 0x0d) ^ gmul(c, 0x09) ^ gmul(d, 0x0e)\n",
    "    return out[0],out[1],out[2],out[3]"
   ]
  },
  {
   "cell_type": "code",
   "execution_count": 19,
   "id": "b1434c46",
   "metadata": {},
   "outputs": [],
   "source": [
    "def i_mix_columns(state):\n",
    "    out=bytearray(len(state))\n",
    "    for i in range(4):\n",
    "        out[i], out[i+4], out[i+8], out[i+12]=i_mix_column(state[i], state[i+4], state[i+8], state[i+12])\n",
    "    return out"
   ]
  },
  {
   "cell_type": "code",
   "execution_count": 20,
   "id": "b1338275",
   "metadata": {},
   "outputs": [],
   "source": [
    "def aes_encrypt(key, data, bits=None):\n",
    "    bkey=bytes.fromhex(key) if isinstance(key, str) else key\n",
    "    if bits is None:\n",
    "        if len(bkey) == 16:\n",
    "            bits=128\n",
    "        elif len(bkey) == 24:\n",
    "            bits=192\n",
    "        elif len(bkey) == 32:\n",
    "            bits=256\n",
    "        else:\n",
    "            raise RuntimeError(\"key length error\")\n",
    "    key_exp=key_expansion(bkey,bits)\n",
    "    round_count = len(key_exp)//16 - 1\n",
    "    enc_states = []   \n",
    "    data=bytes.fromhex(data) if isinstance(data, str) else data\n",
    "    out=bytearray(len(data))\n",
    "    for j in range(len(data)//16):\n",
    "        state=transpose(data[j*16:j*16+16])\n",
    "        state=add_round_key(0,state, key_exp) \n",
    "        for i in range(1, round_count):\n",
    "            state=sub_bytes(state)\n",
    "            state=shift_rows(state)\n",
    "            state=mix_columns(state)\n",
    "            state=add_round_key(i, state, key_exp)\n",
    "\n",
    "        state=sub_bytes(state)\n",
    "        state=shift_rows(state)\n",
    "        state=add_round_key(round_count,state, key_exp)\n",
    "        state=transpose(state)\n",
    "        out[j*16:j*16+16]=state\n",
    "        \n",
    "    return out"
   ]
  },
  {
   "cell_type": "code",
   "execution_count": 21,
   "id": "1b6bc2c0",
   "metadata": {},
   "outputs": [],
   "source": [
    "def aes_decrypt(key, data, bits=None):\n",
    "    bkey=bytes.fromhex(key) if isinstance(key, str) else key\n",
    "    if bits is None:\n",
    "        if len(bkey) == 16:\n",
    "            bits=128\n",
    "        elif len(bkey) == 24:\n",
    "            bits=192\n",
    "        elif len(bkey) == 32:\n",
    "            bits=256\n",
    "        else:\n",
    "            raise RuntimeError(\"key length error\")\n",
    "    key_exp=key_expansion(bkey,bits)\n",
    "    round_count = len(key_exp)//16 - 1\n",
    "    enc_states = []\n",
    "    data=bytes.fromhex(data) if isinstance(data, str) else data\n",
    "    out = bytearray(len(data))\n",
    "    for j in range(len(data)//16):\n",
    "        state=transpose(data[j*16:j*16+16])\n",
    "        state = add_round_key(round_count, state, key_exp) # Initial key round\n",
    "        for i in range(round_count-1, 0, -1):\n",
    "            state=i_shift_rows(state)\n",
    "            state=i_sub_bytes(state)\n",
    "            state=add_round_key(i, state, key_exp)        \n",
    "            state=i_mix_columns(state)\n",
    "\n",
    "        state=i_shift_rows(state)\n",
    "        state=i_sub_bytes(state)\n",
    "        state=add_round_key(0,state, key_exp)\n",
    "        state=transpose(state)\n",
    "        out[j*16:j*16+16]=state\n",
    "    return out"
   ]
  },
  {
   "cell_type": "code",
   "execution_count": 22,
   "id": "0301b4ee",
   "metadata": {},
   "outputs": [
    {
     "data": {
      "text/plain": [
       "'480d65e0ae39784dccbc83ec22010094811d381f2be117665a9b350b44351df7'"
      ]
     },
     "execution_count": 22,
     "metadata": {},
     "output_type": "execute_result"
    }
   ],
   "source": [
    "state=aes_encrypt('2b7e151628aed2a6abf7158809cf4f3c50f2bfeffe7f0000ba00eba181242980', '6bc1bee22e409f96e93d7e117393172aae2d8a571e03ac9c9eb76fac45af8e51')\n",
    "state.hex()"
   ]
  },
  {
   "cell_type": "code",
   "execution_count": 23,
   "id": "c65d341a",
   "metadata": {},
   "outputs": [
    {
     "data": {
      "text/plain": [
       "'6bc1bee22e409f96e93d7e117393172aae2d8a571e03ac9c9eb76fac45af8e51'"
      ]
     },
     "execution_count": 23,
     "metadata": {},
     "output_type": "execute_result"
    }
   ],
   "source": [
    "aes_decrypt('2b7e151628aed2a6abf7158809cf4f3c50f2bfeffe7f0000ba00eba181242980', state).hex()"
   ]
  },
  {
   "cell_type": "code",
   "execution_count": 24,
   "id": "8ce77ff6",
   "metadata": {},
   "outputs": [],
   "source": [
    "from Crypto.Cipher import AES"
   ]
  },
  {
   "cell_type": "code",
   "execution_count": 25,
   "id": "d9214e24",
   "metadata": {},
   "outputs": [],
   "source": [
    "aes=AES.new(bytes.fromhex('2b7e151628aed2a6abf7158809cf4f3c50f2bfeffe7f0000ba00eba181242980'),AES.MODE_ECB)"
   ]
  },
  {
   "cell_type": "code",
   "execution_count": 26,
   "id": "f4b81059",
   "metadata": {},
   "outputs": [
    {
     "data": {
      "text/plain": [
       "'480d65e0ae39784dccbc83ec22010094811d381f2be117665a9b350b44351df7'"
      ]
     },
     "execution_count": 26,
     "metadata": {},
     "output_type": "execute_result"
    }
   ],
   "source": [
    "aes.encrypt(bytes.fromhex('6bc1bee22e409f96e93d7e117393172aae2d8a571e03ac9c9eb76fac45af8e51')).hex()"
   ]
  },
  {
   "cell_type": "code",
   "execution_count": 27,
   "id": "1f92f0af",
   "metadata": {},
   "outputs": [
    {
     "data": {
      "text/plain": [
       "'6bc1bee22e409f96e93d7e117393172aae2d8a571e03ac9c9eb76fac45af8e51'"
      ]
     },
     "execution_count": 27,
     "metadata": {},
     "output_type": "execute_result"
    }
   ],
   "source": [
    "aes.decrypt(state).hex()"
   ]
  },
  {
   "cell_type": "code",
   "execution_count": null,
   "id": "ca154a87",
   "metadata": {},
   "outputs": [],
   "source": []
  },
  {
   "cell_type": "code",
   "execution_count": null,
   "id": "17adda6c",
   "metadata": {},
   "outputs": [],
   "source": []
  }
 ],
 "metadata": {
  "kernelspec": {
   "display_name": "Python 3 (ipykernel)",
   "language": "python",
   "name": "python3"
  },
  "language_info": {
   "codemirror_mode": {
    "name": "ipython",
    "version": 3
   },
   "file_extension": ".py",
   "mimetype": "text/x-python",
   "name": "python",
   "nbconvert_exporter": "python",
   "pygments_lexer": "ipython3",
   "version": "3.9.12"
  }
 },
 "nbformat": 4,
 "nbformat_minor": 5
}
