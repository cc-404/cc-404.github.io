{
  "nbformat": 4,
  "nbformat_minor": 0,
  "metadata": {
    "colab": {
      "name": "Discuz.ipynb",
      "provenance": [],
      "collapsed_sections": []
    },
    "kernelspec": {
      "display_name": "Python 3",
      "name": "python3"
    },
    "language_info": {
      "name": "python"
    }
  },
  "cells": [
    {
      "cell_type": "code",
      "metadata": {
        "id": "s1pG25oyDumO"
      },
      "source": [
        "import os"
      ],
      "execution_count": 1,
      "outputs": []
    },
    {
      "cell_type": "code",
      "metadata": {
        "id": "Ikwz7_-5JiAV"
      },
      "source": [
        "from google.colab import drive\n",
        "drive.mount('/content/drive')"
      ],
      "execution_count": null,
      "outputs": []
    },
    {
      "cell_type": "code",
      "metadata": {
        "id": "RF45p94bDvl_"
      },
      "source": [
        "os.listdir('.')"
      ],
      "execution_count": null,
      "outputs": []
    },
    {
      "cell_type": "code",
      "metadata": {
        "id": "4xr3e_-XJIgJ"
      },
      "source": [
        "%tensorflow_version 1.x"
      ],
      "execution_count": null,
      "outputs": []
    },
    {
      "cell_type": "code",
      "metadata": {
        "id": "vMPL9e7eJL9H"
      },
      "source": [
        "! git clone https://github.com/nickliqian/cnn_captcha.git"
      ],
      "execution_count": null,
      "outputs": []
    },
    {
      "cell_type": "code",
      "metadata": {
        "id": "46Mzr3u7Dwjn"
      },
      "source": [
        "! mkdir cnn_captcha/sample"
      ],
      "execution_count": null,
      "outputs": []
    },
    {
      "cell_type": "code",
      "metadata": {
        "id": "fWlU2IwbJVuW"
      },
      "source": [
        "! tar -zxvf '/content/drive/MyDrive/Discuz-50000.tar.gz' > /dev/null"
      ],
      "execution_count": null,
      "outputs": []
    },
    {
      "cell_type": "code",
      "metadata": {
        "id": "SR6UZVyyZYfQ"
      },
      "source": [
        "! tar -zxvf '/content/drive/MyDrive/Discuz-50000-100000.tar.gz' > /dev/null"
      ],
      "execution_count": null,
      "outputs": []
    },
    {
      "cell_type": "code",
      "metadata": {
        "id": "JJ3GoCx2Eou5"
      },
      "source": [
        "! tar -zxvf '/content/drive/MyDrive/Discuz-100000-200000.tar.gz' > /dev/null"
      ],
      "execution_count": null,
      "outputs": []
    },
    {
      "cell_type": "code",
      "metadata": {
        "id": "vdaJ1nPMF6K4"
      },
      "source": [
        "! mv Discuz cnn_captcha/sample/origin"
      ],
      "execution_count": null,
      "outputs": []
    },
    {
      "cell_type": "code",
      "metadata": {
        "id": "vf4LeLgsGF23"
      },
      "source": [
        "! cd cnn_captcha/tools && python3 collect_labels.py"
      ],
      "execution_count": null,
      "outputs": []
    },
    {
      "cell_type": "code",
      "metadata": {
        "id": "vqrC99uDGqK9"
      },
      "source": [
        "import json"
      ],
      "execution_count": null,
      "outputs": []
    },
    {
      "cell_type": "code",
      "metadata": {
        "id": "IHV3hIU0G2GL"
      },
      "source": [
        "with open('cnn_captcha/conf/sample_config.json', 'r') as fp:\n",
        "  data=json.load(fp)"
      ],
      "execution_count": null,
      "outputs": []
    },
    {
      "cell_type": "code",
      "metadata": {
        "id": "cX-0swz3mdp7"
      },
      "source": [
        "data"
      ],
      "execution_count": null,
      "outputs": []
    },
    {
      "cell_type": "code",
      "metadata": {
        "id": "8Pd2rUGYm20x"
      },
      "source": [
        "data['cycle_stop'] = 60000"
      ],
      "execution_count": null,
      "outputs": []
    },
    {
      "cell_type": "code",
      "metadata": {
        "id": "iUr3VUx7HAqh"
      },
      "source": [
        "data['image_suffix']='png'"
      ],
      "execution_count": null,
      "outputs": []
    },
    {
      "cell_type": "code",
      "metadata": {
        "id": "QIvzIZWXHbg8"
      },
      "source": [
        "data['image_width'] = 160"
      ],
      "execution_count": null,
      "outputs": []
    },
    {
      "cell_type": "code",
      "metadata": {
        "id": "sYQgHYuiHBQx"
      },
      "source": [
        "data['char_set']='BCEFGHJKMPQRTVWXY2346789'"
      ],
      "execution_count": null,
      "outputs": []
    },
    {
      "cell_type": "code",
      "metadata": {
        "id": "b0KtiaI9Hgqk"
      },
      "source": [
        "data['test_batch_size']=100\n",
        "data['train_batch_size']=128"
      ],
      "execution_count": null,
      "outputs": []
    },
    {
      "cell_type": "code",
      "metadata": {
        "id": "v0GTIs1DHr3F"
      },
      "source": [
        "with open('cnn_captcha/conf/sample_config.json', 'w') as fp:\n",
        "  json.dump(data, fp)"
      ],
      "execution_count": null,
      "outputs": []
    },
    {
      "cell_type": "code",
      "metadata": {
        "id": "tO3W_49aLMYm"
      },
      "source": [
        "os.chdir('cnn_captcha')"
      ],
      "execution_count": null,
      "outputs": []
    },
    {
      "cell_type": "code",
      "metadata": {
        "id": "aYCS4K7fIe5P"
      },
      "source": [
        "# -*- coding: utf-8 -*-\n",
        "import json\n",
        "\n",
        "import tensorflow as tf\n",
        "import numpy as np\n",
        "import matplotlib.pyplot as plt\n",
        "import time\n",
        "from PIL import Image\n",
        "import random\n",
        "import os\n",
        "from cnnlib.network import CNN\n",
        "\n",
        "\n",
        "class TrainError(Exception):\n",
        "    pass\n",
        "\n",
        "\n",
        "class TrainModel(CNN):\n",
        "    def __init__(self, train_img_path, verify_img_path, char_set, model_save_dir, cycle_stop, acc_stop, cycle_save,\n",
        "                 image_suffix, train_batch_size, test_batch_size, verify=False):\n",
        "        # 训练相关参数\n",
        "        self.cycle_stop = cycle_stop\n",
        "        self.acc_stop = acc_stop\n",
        "        self.cycle_save = cycle_save\n",
        "        self.train_batch_size = train_batch_size\n",
        "        self.test_batch_size = test_batch_size\n",
        "\n",
        "        self.image_suffix = image_suffix\n",
        "        char_set = [str(i) for i in char_set]\n",
        "\n",
        "        # 打乱文件顺序+校验图片格式\n",
        "        self.train_img_path = train_img_path\n",
        "        self.train_images_list = os.listdir(train_img_path)\n",
        "        # 校验格式\n",
        "        if verify:\n",
        "            self.confirm_image_suffix()\n",
        "        # 打乱文件顺序\n",
        "        random.seed(time.time())\n",
        "        random.shuffle(self.train_images_list)\n",
        "\n",
        "        # 验证集文件\n",
        "        self.verify_img_path = verify_img_path\n",
        "        self.verify_images_list = os.listdir(verify_img_path)\n",
        "\n",
        "        # 获得图片宽高和字符长度基本信息\n",
        "        label, captcha_array = self.gen_captcha_text_image(train_img_path, self.train_images_list[0])\n",
        "\n",
        "        captcha_shape = captcha_array.shape\n",
        "        captcha_shape_len = len(captcha_shape)\n",
        "        if captcha_shape_len == 3:\n",
        "            image_height, image_width, channel = captcha_shape\n",
        "            self.channel = channel\n",
        "        elif captcha_shape_len == 2:\n",
        "            image_height, image_width = captcha_shape\n",
        "        else:\n",
        "            raise TrainError(\"图片转换为矩阵时出错，请检查图片格式\")\n",
        "\n",
        "        # 初始化变量\n",
        "        super(TrainModel, self).__init__(image_height, image_width, len(label), char_set, model_save_dir)\n",
        "\n",
        "        # 相关信息打印\n",
        "        print(\"-->图片尺寸: {} X {}\".format(image_height, image_width))\n",
        "        print(\"-->验证码长度: {}\".format(self.max_captcha))\n",
        "        print(\"-->验证码共{}类 {}\".format(self.char_set_len, char_set))\n",
        "        print(\"-->使用测试集为 {}\".format(train_img_path))\n",
        "        print(\"-->使验证集为 {}\".format(verify_img_path))\n",
        "\n",
        "        # test model input and output\n",
        "        print(\">>> Start model test\")\n",
        "        batch_x, batch_y = self.get_batch(0, size=100)\n",
        "        print(\">>> input batch images shape: {}\".format(batch_x.shape))\n",
        "        print(\">>> input batch labels shape: {}\".format(batch_y.shape))\n",
        "\n",
        "    @staticmethod\n",
        "    def gen_captcha_text_image(img_path, img_name):\n",
        "        \"\"\"\n",
        "        返回一个验证码的array形式和对应的字符串标签\n",
        "        :return:tuple (str, numpy.array)\n",
        "        \"\"\"\n",
        "        # 标签\n",
        "        label = img_name.split(\"_\")[0]\n",
        "        # 文件\n",
        "        img_file = os.path.join(img_path, img_name)\n",
        "        captcha_image = Image.open(img_file)\n",
        "        captcha_array = np.array(captcha_image)  # 向量化\n",
        "        return label, captcha_array\n",
        "\n",
        "    def get_batch(self, n, size=128):\n",
        "        batch_x = np.zeros([size, self.image_height * self.image_width])  # 初始化\n",
        "        batch_y = np.zeros([size, self.max_captcha * self.char_set_len])  # 初始化\n",
        "\n",
        "        max_batch = int(len(self.train_images_list) / size)\n",
        "        # print(max_batch)\n",
        "        if max_batch - 1 < 0:\n",
        "            raise TrainError(\"训练集图片数量需要大于每批次训练的图片数量\")\n",
        "        if n > max_batch - 1:\n",
        "            n = n % max_batch\n",
        "        s = n * size\n",
        "        e = (n + 1) * size\n",
        "        this_batch = self.train_images_list[s:e]\n",
        "        # print(\"{}:{}\".format(s, e))\n",
        "\n",
        "        for i, img_name in enumerate(this_batch):\n",
        "            label, image_array = self.gen_captcha_text_image(self.train_img_path, img_name)\n",
        "            image_array = self.convert2gray(image_array)  # 灰度化图片\n",
        "            batch_x[i, :] = image_array.flatten() / 255  # flatten 转为一维\n",
        "            batch_y[i, :] = self.text2vec(label)  # 生成 oneHot\n",
        "        return batch_x, batch_y\n",
        "\n",
        "    def get_verify_batch(self, size=100):\n",
        "        batch_x = np.zeros([size, self.image_height * self.image_width])  # 初始化\n",
        "        batch_y = np.zeros([size, self.max_captcha * self.char_set_len])  # 初始化\n",
        "\n",
        "        verify_images = []\n",
        "        for i in range(size):\n",
        "            verify_images.append(random.choice(self.verify_images_list))\n",
        "\n",
        "        for i, img_name in enumerate(verify_images):\n",
        "            label, image_array = self.gen_captcha_text_image(self.verify_img_path, img_name)\n",
        "            image_array = self.convert2gray(image_array)  # 灰度化图片\n",
        "            batch_x[i, :] = image_array.flatten() / 255  # flatten 转为一维\n",
        "            batch_y[i, :] = self.text2vec(label)  # 生成 oneHot\n",
        "        return batch_x, batch_y\n",
        "\n",
        "    def confirm_image_suffix(self):\n",
        "        # 在训练前校验所有文件格式\n",
        "        print(\"开始校验所有图片后缀\")\n",
        "        for index, img_name in enumerate(self.train_images_list):\n",
        "            print(\"{} image pass\".format(index), end='\\r')\n",
        "            if not img_name.endswith(self.image_suffix):\n",
        "                raise TrainError('confirm images suffix：you request [.{}] file but get file [{}]'\n",
        "                                 .format(self.image_suffix, img_name))\n",
        "        print(\"所有图片格式校验通过\")\n",
        "\n",
        "    def train_cnn(self):\n",
        "        y_predict = self.model()\n",
        "        print(\">>> input batch predict shape: {}\".format(y_predict.shape))\n",
        "        print(\">>> End model test\")\n",
        "        # 计算概率 损失\n",
        "        with tf.name_scope('cost'):\n",
        "            cost = tf.reduce_mean(tf.nn.sigmoid_cross_entropy_with_logits(logits=y_predict, labels=self.Y))\n",
        "        # 梯度下降\n",
        "        with tf.name_scope('train'):\n",
        "            optimizer = tf.train.AdamOptimizer(learning_rate=0.0001).minimize(cost)\n",
        "        # 计算准确率\n",
        "        predict = tf.reshape(y_predict, [-1, self.max_captcha, self.char_set_len])  # 预测结果\n",
        "        max_idx_p = tf.argmax(predict, 2)  # 预测结果\n",
        "        max_idx_l = tf.argmax(tf.reshape(self.Y, [-1, self.max_captcha, self.char_set_len]), 2)  # 标签\n",
        "        # 计算准确率\n",
        "        correct_pred = tf.equal(max_idx_p, max_idx_l)\n",
        "        with tf.name_scope('char_acc'):\n",
        "            accuracy_char_count = tf.reduce_mean(tf.cast(correct_pred, tf.float32))\n",
        "        with tf.name_scope('image_acc'):\n",
        "            accuracy_image_count = tf.reduce_mean(tf.reduce_min(tf.cast(correct_pred, tf.float32), axis=1))\n",
        "        # 模型保存对象\n",
        "        saver = tf.train.Saver()\n",
        "        with tf.Session() as sess:\n",
        "            init = tf.global_variables_initializer()\n",
        "            sess.run(init)\n",
        "            # 恢复模型\n",
        "            if os.path.exists(self.model_save_dir):\n",
        "                try:\n",
        "                    saver.restore(sess, self.model_save_dir)\n",
        "                # 判断捕获model文件夹中没有模型文件的错误\n",
        "                except ValueError:\n",
        "                    print(\"model文件夹为空，将创建新模型\")\n",
        "            else:\n",
        "                pass\n",
        "            # 写入日志\n",
        "            tf.summary.FileWriter(\"logs/\", sess.graph)\n",
        "\n",
        "            step = 1\n",
        "            for i in range(self.cycle_stop):\n",
        "                batch_x, batch_y = self.get_batch(i, size=self.train_batch_size)\n",
        "                # 梯度下降训练\n",
        "                _, cost_ = sess.run([optimizer, cost],\n",
        "                                    feed_dict={self.X: batch_x, self.Y: batch_y, self.keep_prob: 0.75})\n",
        "                if step % 10 == 0:\n",
        "                    # 基于训练集的测试\n",
        "                    batch_x_test, batch_y_test = self.get_batch(i, size=self.train_batch_size)\n",
        "                    acc_char = sess.run(accuracy_char_count, feed_dict={self.X: batch_x_test, self.Y: batch_y_test, self.keep_prob: 1.})\n",
        "                    acc_image = sess.run(accuracy_image_count, feed_dict={self.X: batch_x_test, self.Y: batch_y_test, self.keep_prob: 1.})\n",
        "                    print(\"第{}次训练 >>> \".format(step))\n",
        "                    print(\"[训练集] 字符准确率为 {:.5f} 图片准确率为 {:.5f} >>> loss {:.10f}\".format(acc_char, acc_image, cost_))\n",
        "\n",
        "                    # with open(\"loss_train.csv\", \"a+\") as f:\n",
        "                    #     f.write(\"{},{},{},{}\\n\".format(step, acc_char, acc_image, cost_))\n",
        "\n",
        "                    # 基于验证集的测试\n",
        "                    batch_x_verify, batch_y_verify = self.get_verify_batch(size=self.test_batch_size)\n",
        "                    acc_char = sess.run(accuracy_char_count, feed_dict={self.X: batch_x_verify, self.Y: batch_y_verify, self.keep_prob: 1.})\n",
        "                    acc_image = sess.run(accuracy_image_count, feed_dict={self.X: batch_x_verify, self.Y: batch_y_verify, self.keep_prob: 1.})\n",
        "                    print(\"[验证集] 字符准确率为 {:.5f} 图片准确率为 {:.5f} >>> loss {:.10f}\".format(acc_char, acc_image, cost_))\n",
        "\n",
        "                    # with open(\"loss_test.csv\", \"a+\") as f:\n",
        "                    #     f.write(\"{}, {},{},{}\\n\".format(step, acc_char, acc_image, cost_))\n",
        "\n",
        "                    # 准确率达到99%后保存并停止\n",
        "                    if acc_image > self.acc_stop:\n",
        "                        saver.save(sess, self.model_save_dir)\n",
        "                        print(\"验证集准确率达到99%，保存模型成功\")\n",
        "                        break\n",
        "                # 每训练500轮就保存一次\n",
        "                if i % self.cycle_save == 0:\n",
        "                    saver.save(sess, self.model_save_dir)\n",
        "                    print(\"定时保存模型成功\")\n",
        "                step += 1\n",
        "            saver.save(sess, self.model_save_dir)\n",
        "\n",
        "    def recognize_captcha(self):\n",
        "        label, captcha_array = self.gen_captcha_text_image(self.train_img_path, random.choice(self.train_images_list))\n",
        "\n",
        "        f = plt.figure()\n",
        "        ax = f.add_subplot(111)\n",
        "        ax.text(0.1, 0.9, \"origin:\" + label, ha='center', va='center', transform=ax.transAxes)\n",
        "        plt.imshow(captcha_array)\n",
        "        # 预测图片\n",
        "        image = self.convert2gray(captcha_array)\n",
        "        image = image.flatten() / 255\n",
        "\n",
        "        y_predict = self.model()\n",
        "\n",
        "        saver = tf.train.Saver()\n",
        "        with tf.Session() as sess:\n",
        "            saver.restore(sess, self.model_save_dir)\n",
        "            predict = tf.argmax(tf.reshape(y_predict, [-1, self.max_captcha, self.char_set_len]), 2)\n",
        "            text_list = sess.run(predict, feed_dict={self.X: [image], self.keep_prob: 1.})\n",
        "            predict_text = text_list[0].tolist()\n",
        "\n",
        "        print(\"正确: {}  预测: {}\".format(label, predict_text))\n",
        "        # 显示图片和预测结果\n",
        "        p_text = \"\"\n",
        "        for p in predict_text:\n",
        "            p_text += str(self.char_set[p])\n",
        "        print(p_text)\n",
        "        plt.text(20, 1, 'predict:{}'.format(p_text))\n",
        "        plt.show()\n",
        "\n",
        "\n",
        "def main():\n",
        "    with open(\"conf/sample_config.json\", \"r\") as f:\n",
        "        sample_conf = json.load(f)\n",
        "\n",
        "    train_image_dir = sample_conf[\"train_image_dir\"]\n",
        "    verify_image_dir = sample_conf[\"test_image_dir\"]\n",
        "    model_save_dir = sample_conf[\"model_save_dir\"]\n",
        "    cycle_stop = sample_conf[\"cycle_stop\"]\n",
        "    acc_stop = sample_conf[\"acc_stop\"]\n",
        "    cycle_save = sample_conf[\"cycle_save\"]\n",
        "    enable_gpu = sample_conf[\"enable_gpu\"]\n",
        "    image_suffix = sample_conf['image_suffix']\n",
        "    use_labels_json_file = sample_conf['use_labels_json_file']\n",
        "    train_batch_size = sample_conf['train_batch_size']\n",
        "    test_batch_size = sample_conf['test_batch_size']\n",
        "\n",
        "    if use_labels_json_file:\n",
        "        with open(\"tools/labels.json\", \"r\") as f:\n",
        "            char_set = f.read().strip()\n",
        "    else:\n",
        "        char_set = sample_conf[\"char_set\"]\n",
        "\n",
        "    if not enable_gpu:\n",
        "        # 设置以下环境变量可开启CPU识别\n",
        "        os.environ[\"CUDA_DEVICE_ORDER\"] = \"PCI_BUS_ID\"\n",
        "        os.environ[\"CUDA_VISIBLE_DEVICES\"] = \"-1\"\n",
        "\n",
        "    tm = TrainModel(train_image_dir, verify_image_dir, char_set, model_save_dir, cycle_stop, acc_stop, cycle_save,\n",
        "                    image_suffix, train_batch_size, test_batch_size, verify=False)\n",
        "    tm.train_cnn()  # 开始训练模型\n",
        "    # tm.recognize_captcha()  # 识别图片示例\n"
      ],
      "execution_count": null,
      "outputs": []
    },
    {
      "cell_type": "code",
      "metadata": {
        "id": "-3UHu7FsLwIt"
      },
      "source": [
        "! python3 verify_and_split_data.py"
      ],
      "execution_count": null,
      "outputs": []
    },
    {
      "cell_type": "code",
      "metadata": {
        "id": "WbG9Td1xKevK"
      },
      "source": [
        "os.listdir('sample')"
      ],
      "execution_count": null,
      "outputs": []
    },
    {
      "cell_type": "code",
      "metadata": {
        "id": "pEVDuH2HImiL"
      },
      "source": [
        "main()"
      ],
      "execution_count": null,
      "outputs": []
    },
    {
      "cell_type": "code",
      "metadata": {
        "id": "BQOcboMuSg8Z"
      },
      "source": [
        "os.chdir('/content/')"
      ],
      "execution_count": null,
      "outputs": []
    },
    {
      "cell_type": "code",
      "metadata": {
        "id": "9_8qjEiYUSNj"
      },
      "source": [
        "os.listdir()"
      ],
      "execution_count": null,
      "outputs": []
    },
    {
      "cell_type": "code",
      "metadata": {
        "id": "Yzq3vPaMUcpi"
      },
      "source": [
        "! tar -zcvf cnn_captcha.tar.gz cnn_captcha > /dev/null"
      ],
      "execution_count": null,
      "outputs": []
    },
    {
      "cell_type": "code",
      "metadata": {
        "id": "HQx9RIe5Uj45"
      },
      "source": [
        "! tar -zcvf model.tar.gz cnn_captcha/model > /dev/null"
      ],
      "execution_count": null,
      "outputs": []
    },
    {
      "cell_type": "code",
      "metadata": {
        "id": "NME78m3qU1Gk"
      },
      "source": [
        "! cp model.tar.gz drive/MyDrive/"
      ],
      "execution_count": null,
      "outputs": []
    },
    {
      "cell_type": "code",
      "metadata": {
        "id": "1k4kaZhLU6ks"
      },
      "source": [
        "! cp cnn_captcha.tar.gz drive/MyDrive/"
      ],
      "execution_count": null,
      "outputs": []
    },
    {
      "cell_type": "code",
      "metadata": {
        "id": "i1SLBNuNU-UD"
      },
      "source": [
        "os.listdir('drive/MyDrive/')"
      ],
      "execution_count": null,
      "outputs": []
    },
    {
      "cell_type": "code",
      "metadata": {
        "id": "aFW8x--bVIif"
      },
      "source": [
        ""
      ],
      "execution_count": null,
      "outputs": []
    }
  ]
}